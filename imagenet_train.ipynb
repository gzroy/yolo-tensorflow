{
 "cells": [
  {
   "cell_type": "markdown",
   "metadata": {},
   "source": [
    "## Imagenet Pretrain ##"
   ]
  },
  {
   "cell_type": "code",
   "execution_count": 1,
   "metadata": {},
   "outputs": [
    {
     "name": "stderr",
     "output_type": "stream",
     "text": [
      "/home/roy/anaconda3/lib/python3.6/site-packages/h5py/__init__.py:36: FutureWarning: Conversion of the second argument of issubdtype from `float` to `np.floating` is deprecated. In future, it will be treated as `np.float64 == np.dtype(float).type`.\n",
      "  from ._conv import register_converters as _register_converters\n"
     ]
    }
   ],
   "source": [
    "import tensorflow as tf\n",
    "import os\n",
    "import random\n",
    "import time\n",
    "import numpy as np\n",
    "import cv2\n",
    "import yolonet_model"
   ]
  },
  {
   "cell_type": "markdown",
   "metadata": {},
   "source": [
    "**Define the paremeters**"
   ]
  },
  {
   "cell_type": "code",
   "execution_count": 2,
   "metadata": {},
   "outputs": [],
   "source": [
    "imageWidth = 224\n",
    "imageHeight = 224\n",
    "imageDepth = 3\n",
    "batch_size = 128\n",
    "resize_min = 256"
   ]
  },
  {
   "cell_type": "markdown",
   "metadata": {},
   "source": [
    "**Define the function to parse the train TFRecord**"
   ]
  },
  {
   "cell_type": "code",
   "execution_count": 3,
   "metadata": {},
   "outputs": [],
   "source": [
    "# Parse TFRECORD and distort the image for train\n",
    "def _parse_function(example_proto):\n",
    "    features = {\"image\": tf.FixedLenFeature([], tf.string, default_value=\"\"),\n",
    "                \"height\": tf.FixedLenFeature([1], tf.int64, default_value=[0]),\n",
    "                \"width\": tf.FixedLenFeature([1], tf.int64, default_value=[0]),\n",
    "                \"channels\": tf.FixedLenFeature([1], tf.int64, default_value=[3]),\n",
    "                \"colorspace\": tf.FixedLenFeature([], tf.string, default_value=\"\"),\n",
    "                \"img_format\": tf.FixedLenFeature([], tf.string, default_value=\"\"),\n",
    "                \"label\": tf.FixedLenFeature([1], tf.int64, default_value=[0]),\n",
    "                \"bbox_xmin\": tf.VarLenFeature(tf.float32),\n",
    "                \"bbox_xmax\": tf.VarLenFeature(tf.float32),\n",
    "                \"bbox_ymin\": tf.VarLenFeature(tf.float32),\n",
    "                \"bbox_ymax\": tf.VarLenFeature(tf.float32),\n",
    "                \"text\": tf.FixedLenFeature([], tf.string, default_value=\"\"),\n",
    "                \"filename\": tf.FixedLenFeature([], tf.string, default_value=\"\")\n",
    "               }\n",
    "    parsed_features = tf.parse_single_example(example_proto, features)\n",
    "    image_decoded = tf.image.decode_jpeg(parsed_features[\"image\"], channels=3)\n",
    "    # Random resize the image \n",
    "    shape = tf.shape(image_decoded)\n",
    "    height, width = shape[0], shape[1]\n",
    "    resized_height, resized_width = tf.cond(height<width,\n",
    "        lambda: (resize_min, tf.cast(tf.multiply(tf.cast(width, tf.float64),tf.divide(resize_min,height)), tf.int32)),\n",
    "        lambda: (tf.cast(tf.multiply(tf.cast(height, tf.float64),tf.divide(resize_min,width)), tf.int32), resize_min))\n",
    "    image_float = tf.image.convert_image_dtype(image_decoded, tf.float32)\n",
    "    resized = tf.image.resize_images(image_decoded, [resized_height, resized_width])\n",
    "    # Random crop from the resized image\n",
    "    cropped = tf.random_crop(resized, [imageHeight, imageWidth, 3])\n",
    "    # Flip to add a little more random distortion in.\n",
    "    flipped = tf.image.random_flip_left_right(cropped)\n",
    "    # Standardization the image\n",
    "    image_train = tf.image.per_image_standardization(flipped)\n",
    "    return image_train, parsed_features[\"label\"][0], parsed_features[\"text\"], parsed_features[\"filename\"]"
   ]
  },
  {
   "cell_type": "markdown",
   "metadata": {},
   "source": [
    "**Construct the train dataset**"
   ]
  },
  {
   "cell_type": "code",
   "execution_count": 4,
   "metadata": {},
   "outputs": [],
   "source": [
    "with tf.device('/cpu:0'):\n",
    "    train_files_names = os.listdir('train_tf/')\n",
    "    train_files = ['/home/roy/AI/train_tf/'+item for item in train_files_names]\n",
    "    dataset_train = tf.data.TFRecordDataset(train_files)\n",
    "    dataset_train = dataset_train.map(_parse_function, num_parallel_calls=4)\n",
    "    dataset_train = dataset_train.repeat(10)\n",
    "    dataset_train = dataset_train.batch(batch_size)\n",
    "    dataset_train = dataset_train.prefetch(batch_size)\n",
    "    iterator = tf.data.Iterator.from_structure(dataset_train.output_types, dataset_train.output_shapes)\n",
    "    next_images, next_labels = iterator.get_next()\n",
    "    train_init_op = iterator.make_initializer(dataset_train)"
   ]
  },
  {
   "cell_type": "markdown",
   "metadata": {},
   "source": [
    "**Define the function to parse the validation TFRecord**"
   ]
  },
  {
   "cell_type": "code",
   "execution_count": null,
   "metadata": {},
   "outputs": [],
   "source": [
    "def _parse_test_function(example_proto):\n",
    "    features = {\"image\": tf.FixedLenFeature([], tf.string, default_value=\"\"),\n",
    "                \"height\": tf.FixedLenFeature([1], tf.int64, default_value=[0]),\n",
    "                \"width\": tf.FixedLenFeature([1], tf.int64, default_value=[0]),\n",
    "                \"channels\": tf.FixedLenFeature([1], tf.int64, default_value=[3]),\n",
    "                \"colorspace\": tf.FixedLenFeature([], tf.string, default_value=\"\"),\n",
    "                \"img_format\": tf.FixedLenFeature([], tf.string, default_value=\"\"),\n",
    "                \"label\": tf.FixedLenFeature([1], tf.int64, default_value=[0]),\n",
    "                \"bbox_xmin\": tf.VarLenFeature(tf.float32),\n",
    "                \"bbox_xmax\": tf.VarLenFeature(tf.float32),\n",
    "                \"bbox_ymin\": tf.VarLenFeature(tf.float32),\n",
    "                \"bbox_ymax\": tf.VarLenFeature(tf.float32),\n",
    "                \"text\": tf.FixedLenFeature([], tf.string, default_value=\"\"),\n",
    "                \"filename\": tf.FixedLenFeature([], tf.string, default_value=\"\")\n",
    "               }\n",
    "    parsed_features = tf.parse_single_example(example_proto, features)\n",
    "    image_decoded = tf.image.decode_jpeg(parsed_features[\"image\"], channels=3)\n",
    "    shape = tf.shape(image_decoded)\n",
    "    height, width = shape[0], shape[1]\n",
    "    resized_height, resized_width = tf.cond(height<width,\n",
    "        lambda: (resize_min, tf.cast(tf.multiply(tf.cast(width, tf.float64),tf.divide(resize_min,height)), tf.int32)),\n",
    "        lambda: (tf.cast(tf.multiply(tf.cast(height, tf.float64),tf.divide(resize_min,width)), tf.int32), resize_min))\n",
    "    image_float = tf.image.convert_image_dtype(image_decoded, tf.float32)\n",
    "    image_resized = tf.image.resize_images(image_decoded, [resized_height, resized_width])\n",
    "    \n",
    "    # calculate how many to be center crop\n",
    "    shape = tf.shape(image_resized)  \n",
    "    height, width = shape[0], shape[1]\n",
    "    amount_to_be_cropped_h = (height - imageHeight)\n",
    "    crop_top = amount_to_be_cropped_h // 2\n",
    "    amount_to_be_cropped_w = (width - imageWidth)\n",
    "    crop_left = amount_to_be_cropped_w // 2\n",
    "    image_cropped = tf.slice(image_resized, [crop_top, crop_left, 0], [imageHeight, imageWidth, -1])\n",
    "    image_valid = tf.image.per_image_standardization(image_cropped)\n",
    "    return image_valid, parsed_features[\"label\"][0], parsed_features[\"text\"], parsed_features[\"filename\"]"
   ]
  },
  {
   "cell_type": "markdown",
   "metadata": {},
   "source": [
    "**Construct the validation dataset**"
   ]
  },
  {
   "cell_type": "code",
   "execution_count": null,
   "metadata": {},
   "outputs": [],
   "source": [
    "with tf.device('/cpu:0'):\n",
    "    valid_files_names = os.listdir('valid_tf/')\n",
    "    valid_files = ['/home/roy/AI/valid_tf/'+item for item in valid_files_names]\n",
    "    dataset_valid = tf.data.TFRecordDataset(valid_files)\n",
    "    dataset_valid = dataset_valid.map(_parse_test_function, num_parallel_calls=4)\n",
    "    dataset_valid = dataset_valid.batch(batch_size)\n",
    "    dataset_valid = dataset_valid.prefetch(batch_size)\n",
    "    iterator_valid = tf.data.Iterator.from_structure(dataset_valid.output_types, dataset_valid.output_shapes)\n",
    "    next_valid_images, next_valid_labels, next_valid_text, next_valid_filenames = iterator_valid.get_next()\n",
    "    valid_init_op = iterator_valid.make_initializer(dataset_valid)"
   ]
  },
  {
   "cell_type": "markdown",
   "metadata": {},
   "source": [
    "**Construct the compute graph**"
   ]
  },
  {
   "cell_type": "code",
   "execution_count": null,
   "metadata": {},
   "outputs": [],
   "source": [
    "global_step = tf.Variable(0, trainable=False)\n",
    "epoch_steps = int(1281167/batch_size)\n",
    "boundaries = [epoch_steps*7, epoch_steps*11]\n",
    "values = [0.01, 0.001, 0.0001]\n",
    "learning_rate = tf.train.piecewise_constant(global_step, boundaries, values)\n",
    "lr_summary = tf.summary.scalar('learning_rate', learning_rate)\n",
    "\n",
    "result, conv20 = yolonet_model.inference(next_images, pretrain_trainable=True, \\\n",
    "                                         wd=0.0005, pretrain_training=True, yolo_training=False)\n",
    "output_result_scores = tf.nn.softmax(result)\n",
    "output_result = tf.argmax(output_result_scores, 1)\n",
    "\n",
    "#Calculate the cross entropy loss\n",
    "cross_entropy = tf.losses.sparse_softmax_cross_entropy(labels=next_labels, logits=result)\n",
    "cross_entropy_mean = tf.reduce_mean(cross_entropy, name='cross_entropy')\n",
    "tf.add_to_collection('losses', cross_entropy_mean)\n",
    " \n",
    "#Add the l2 weights to the loss\n",
    "loss = tf.add_n(tf.get_collection('losses'), name='total_loss')\n",
    "loss_summary = tf.summary.scalar('loss', loss)\n",
    " \n",
    "#Define the optimizer\n",
    "optimizer = tf.train.MomentumOptimizer(learning_rate, 0.9)\n",
    "update_ops = tf.get_collection(tf.GraphKeys.UPDATE_OPS)\n",
    "with tf.control_dependencies(update_ops):\n",
    "    optimize_op = optimizer.minimize(cross_entropy_mean, global_step=global_step)\n",
    "\n",
    "#Get the inference logits by the model for the validation images\n",
    "result_valid, conv20_valid = yolonet_model.inference(next_valid_images, pretrain=True, wd=None, training=True)\n",
    "output_valid_scores = tf.nn.softmax(result_valid)\n",
    "output_valid_result = tf.argmax(output_valid_scores, 1)\n",
    "#Calculate the accuracy for top1 and top5\n",
    "accuracy_valid_batch = tf.reduce_mean(tf.cast(tf.equal(next_valid_labels, tf.argmax(output_valid_scores, 1)), tf.float32))\n",
    "accuracy_valid_top_5 = tf.reduce_mean(tf.cast(tf.nn.in_top_k(output_valid_scores, next_valid_labels, k=5), tf.float32))\n",
    "acc_1_summary = tf.summary.scalar('accuracy_valid_top_1', accuracy_valid_batch)\n",
    "acc_2_summary = tf.summary.scalar('accuracy_valid_top_5', accuracy_valid_top_5)"
   ]
  },
  {
   "cell_type": "markdown",
   "metadata": {},
   "source": [
    "**Training and validating**"
   ]
  },
  {
   "cell_type": "code",
   "execution_count": null,
   "metadata": {
    "scrolled": true
   },
   "outputs": [],
   "source": [
    "saver = tf.train.Saver()\n",
    "          \n",
    "with tf.Session() as sess:\n",
    "    sess.run(tf.global_variables_initializer())  #Comment out this line if resume training\n",
    "    #saver.restore(sess, \"model/model.ckpt-5000\") #Comment out this line if the first time training \n",
    "    sess.run([train_init_op, valid_init_op])\n",
    "    total_loss = 0.0\n",
    "    epoch = 0\n",
    "    starttime = time.time()\n",
    "    while(True):\n",
    "        try:\n",
    "            loss_t, output_result_t, lr, step, _ = sess.run([loss, output_result, learning_rate, global_step, optimize_op])\n",
    "            total_loss += loss_t\n",
    "            if step%100==0:\n",
    "                print(\"step: %i, Learning_rate: %f, Time: %is Loss: %f\"%(step, lr, int(time.time()-starttime), total_loss/100))\n",
    "                total_loss = 0.0\n",
    "                starttime = time.time()\n",
    "            #Calculate the top1 and top5 accuracy every 5000 steps and save the weights\n",
    "            if step%5000==0:\n",
    "                save_path = saver.save(sess, \"model/model.ckpt\", global_step=global_step)\n",
    "                truepredict = 0.0\n",
    "                truepredict_top5 = 0.0\n",
    "                valid_count = 0\n",
    "                while(True):\n",
    "                    try:\n",
    "                        acc_valid_1, acc_valid_5, valid_result_t = sess.run([accuracy_valid_batch, accuracy_valid_top_5, output_valid_result])\n",
    "                        truepredict += acc_valid_1\n",
    "                        truepredict_top5 += acc_valid_5\n",
    "                        valid_count += 1\n",
    "                    except tf.errors.OutOfRangeError:\n",
    "                        print(\"valid accuracy of top 1: %f\" % (truepredict/valid_count))\n",
    "                        print(\"valid accuracy of top 5: %f\" % (truepredict_top5/valid_count))\n",
    "                        break\n",
    "                starttime = time.time()\n",
    "                sess.run([valid_init_op])\n",
    "          \n",
    "        except tf.errors.OutOfRangeError:\n",
    "            break"
   ]
  }
 ],
 "metadata": {
  "kernelspec": {
   "display_name": "tensorflow",
   "language": "python",
   "name": "tensorflow"
  },
  "language_info": {
   "codemirror_mode": {
    "name": "ipython",
    "version": 3
   },
   "file_extension": ".py",
   "mimetype": "text/x-python",
   "name": "python",
   "nbconvert_exporter": "python",
   "pygments_lexer": "ipython3",
   "version": "3.7.1"
  }
 },
 "nbformat": 4,
 "nbformat_minor": 2
}
